{
  "nbformat": 4,
  "nbformat_minor": 0,
  "metadata": {
    "colab": {
      "name": "Harrison Kang - LS_DS_114_Make_Explanatory_Visualizations_Assignment.ipynb",
      "provenance": [],
      "collapsed_sections": [],
      "include_colab_link": true
    },
    "language_info": {
      "codemirror_mode": {
        "name": "ipython",
        "version": 3
      },
      "file_extension": ".py",
      "mimetype": "text/x-python",
      "name": "python",
      "nbconvert_exporter": "python",
      "pygments_lexer": "ipython3",
      "version": "3.7.1"
    },
    "kernelspec": {
      "display_name": "Python 3",
      "language": "python",
      "name": "python3"
    }
  },
  "cells": [
    {
      "cell_type": "markdown",
      "metadata": {
        "id": "view-in-github",
        "colab_type": "text"
      },
      "source": [
        "<a href=\"https://colab.research.google.com/github/HKang42/DS-Unit-1-Sprint-1-Data-Wrangling-and-Storytelling/blob/master/module4-make-explanatory-visualizations/Harrison_Kang_LS_DS_114_Make_Explanatory_Visualizations_Assignment.ipynb\" target=\"_parent\"><img src=\"https://colab.research.google.com/assets/colab-badge.svg\" alt=\"Open In Colab\"/></a>"
      ]
    },
    {
      "cell_type": "markdown",
      "metadata": {
        "colab_type": "text",
        "id": "NMEswXWh9mqw"
      },
      "source": [
        "Lambda School Data Science\n",
        "\n",
        "*Unit 1, Sprint 1, Module 4*\n",
        "\n",
        "---\n",
        "\n",
        "# ASSIGNMENT\n",
        "\n",
        "### 1) Replicate the lesson code. I recommend that you [do not copy-paste](https://docs.google.com/document/d/1ubOw9B3Hfip27hF2ZFnW3a3z9xAgrUDRReOEo-FHCVs/edit).\n",
        "\n",
        "Get caught up to where we got our example in class and then try and take things further. How close to \"pixel perfect\" can you make the lecture graph?\n",
        "\n",
        "Once you have something that you're proud of, share your graph in the cohort channel and move on to the second exercise.\n",
        "\n",
        "### 2) Reproduce another example from [FiveThityEight's shared data repository](https://data.fivethirtyeight.com/).\n",
        "\n",
        "**WARNING**: There are a lot of very custom graphs and tables at the above link. I **highly** recommend not trying to reproduce any that look like a table of values or something really different from the graph types that we are already familiar with. Search through the posts until you find a graph type that you are more or less familiar with: histogram, bar chart, stacked bar chart, line chart, [seaborn relplot](https://seaborn.pydata.org/generated/seaborn.relplot.html), etc. Recreating some of the graphics that 538 uses would be a lot easier in Adobe photoshop/illustrator than with matplotlib. \n",
        "\n",
        "- If you put in some time to find a graph that looks \"easy\" to replicate you'll probably find that it's not as easy as you thought. \n",
        "\n",
        "- If you start with a graph that looks hard to replicate you'll probably run up against a brick wall and be disappointed with your afternoon.\n",
        "\n",
        "\n",
        "\n",
        "\n",
        "\n",
        "\n",
        "\n",
        "\n",
        "\n",
        "\n"
      ]
    },
    {
      "cell_type": "code",
      "metadata": {
        "id": "7SY1ZHawyZvz",
        "colab_type": "code",
        "colab": {
          "base_uri": "https://localhost:8080/",
          "height": 355
        },
        "outputId": "88663ee9-687e-41da-c0c9-bdc0739e4d9b"
      },
      "source": [
        "# Your Work Here\n",
        "import pandas as pd\n",
        "import matplotlib.pyplot as plt\n",
        "import numpy as np\n",
        "\n",
        "from IPython.display import display, Image\n",
        "\n",
        "url = 'https://fivethirtyeight.com/wp-content/uploads/2017/09/mehtahickey-inconvenient-0830-1.png'\n",
        "example = Image(url=url, width=400)\n",
        "\n",
        "display(example)"
      ],
      "execution_count": 11,
      "outputs": [
        {
          "output_type": "display_data",
          "data": {
            "text/html": [
              "<img src=\"https://fivethirtyeight.com/wp-content/uploads/2017/09/mehtahickey-inconvenient-0830-1.png\" width=\"400\"/>"
            ],
            "text/plain": [
              "<IPython.core.display.Image object>"
            ]
          },
          "metadata": {
            "tags": []
          }
        }
      ]
    },
    {
      "cell_type": "markdown",
      "metadata": {
        "id": "WUS2NBjvO6l1",
        "colab_type": "text"
      },
      "source": [
        "**1) Replicate the above graph.**"
      ]
    },
    {
      "cell_type": "code",
      "metadata": {
        "id": "n0IlF58OO6OA",
        "colab_type": "code",
        "colab": {
          "base_uri": "https://localhost:8080/",
          "height": 383
        },
        "outputId": "09d0c0a3-254e-497b-e434-1494476853bd"
      },
      "source": [
        "#create data for graph\n",
        "data = pd.Series([38, 3, 2, 1, 2, 4, 6, 5, 5, 33], index=range(1,11))\n",
        "\n",
        "#create plot\n",
        "fig, ax = plt.subplots()\n",
        "\n",
        "#set style\n",
        "plt.style.use('fivethirtyeight')\n",
        "\n",
        "#create bar chart\n",
        "ax.bar(x = data.index, height = data.values, color = '#ED713A', width = 0.9)\n",
        "\n",
        "# set labels\n",
        "ax.set_xlabel ('Rating', fontsize = 10, fontweight = 'bold', fontname= 'DejaVu Sans')\n",
        "ax.set_ylabel ('Percent of Total Votes', fontsize = 10, fontweight = 'bold', fontname= 'DejaVu Sans')\n",
        "\n",
        "# set ticks\n",
        "ax.set_xticks (range(1,11))\n",
        "ax.set_yticks (range(0,50,10))\n",
        "\n",
        "# customize ticks\n",
        "ax.set_yticklabels ( ['0 ','10 ','20 ','30 ','40%'] , color = '#AEAEAE' , fontsize = 10)\n",
        "ax.set_xticklabels ( range(1,11), color = '#AEAEAE' , fontsize = 10)\n",
        "\n",
        "#remove spines\n",
        "ax.spines['left'].set_visible(False)\n",
        "ax.spines['right'].set_visible(False)\n",
        "\n",
        "#set title and subtitle\n",
        "ax.set_title(\"'An Inconvenient Sequel: Truth to power' is divisive\", fontsize = 13, x = 0.41,y = 1.12, fontweight = 'bold', fontname= 'DejaVu Sans')\n",
        "ax.text(s = \"IMDB ratings for the film as of Aug. 29\", x = -0.9, y = 43, fontsize = 11, fontweight = 'light', fontname= 'DejaVu Sans')\n",
        "\n",
        "#set background color\n",
        "ax.set_facecolor( color='None')\n",
        "fig.set_facecolor( color='None')\n",
        "\n",
        "ax.text(s='______________________________________________________________',x=-1.4, y=-10, color = '#AEAEAE')\n",
        "ax.text(s='FiveThirtyEight',x=-1.4, y=-12.5, color = '#AEAEAE', fontsize = 8, fontname= 'DejaVu Sans')\n",
        "ax.text(s='SOURCE: IMDB',x=9.4, y=-12.5, color = '#AEAEAE', fontsize = 8, fontname= 'DejaVu Sans')\n",
        "plt.show()\n",
        "\n",
        "\n",
        "\n"
      ],
      "execution_count": 167,
      "outputs": [
        {
          "output_type": "display_data",
          "data": {
            "image/png": "[encoded data removed]",
            "text/plain": [
              "<Figure size 432x288 with 1 Axes>"
            ]
          },
          "metadata": {
            "tags": []
          }
        }
      ]
    },
    {
      "cell_type": "code",
      "metadata": {
        "id": "vHUgAEBySbJf",
        "colab_type": "code",
        "colab": {
          "base_uri": "https://localhost:8080/",
          "height": 355
        },
        "outputId": "d59fd6db-230d-4f66-f3b2-d5e963f0c2f9"
      },
      "source": [
        "display(example)"
      ],
      "execution_count": 110,
      "outputs": [
        {
          "output_type": "display_data",
          "data": {
            "text/html": [
              "<img src=\"https://fivethirtyeight.com/wp-content/uploads/2017/09/mehtahickey-inconvenient-0830-1.png\" width=\"400\"/>"
            ],
            "text/plain": [
              "<IPython.core.display.Image object>"
            ]
          },
          "metadata": {
            "tags": []
          }
        }
      ]
    },
    {
      "cell_type": "markdown",
      "metadata": {
        "id": "vhZW2y5Md5bI",
        "colab_type": "text"
      },
      "source": [
        "The differences are almost non-existent I think with the exception of the font. "
      ]
    },
    {
      "cell_type": "markdown",
      "metadata": {
        "id": "zrpCK81KeIGy",
        "colab_type": "text"
      },
      "source": [
        "**2) Reproduce another example from FiveThityEight's shared data repository.**"
      ]
    },
    {
      "cell_type": "code",
      "metadata": {
        "id": "rQ96N9GYyvET",
        "colab_type": "code",
        "colab": {
          "base_uri": "https://localhost:8080/",
          "height": 381
        },
        "outputId": "5d5e4d28-10f1-4112-9ada-dda28b35bf19"
      },
      "source": [
        "# image taken from https://fivethirtyeight.com/features/some-people-are-too-superstitious-to-have-a-baby-on-friday-the-13th/\n",
        "\n",
        "\n",
        "from IPython.display import display, Image\n",
        "\n",
        "url = 'https://fivethirtyeight.com/wp-content/uploads/2016/05/bialik-fridaythe13th-2.png?w=575'\n",
        "example = Image(url=url, width=400)\n",
        "\n",
        "display(example)"
      ],
      "execution_count": 247,
      "outputs": [
        {
          "output_type": "display_data",
          "data": {
            "text/html": [
              "<img src=\"https://fivethirtyeight.com/wp-content/uploads/2016/05/bialik-fridaythe13th-2.png?w=575\" width=\"400\"/>"
            ],
            "text/plain": [
              "<IPython.core.display.Image object>"
            ]
          },
          "metadata": {
            "tags": []
          }
        }
      ]
    },
    {
      "cell_type": "code",
      "metadata": {
        "id": "0o-yDvOMeKxK",
        "colab_type": "code",
        "colab": {
          "base_uri": "https://localhost:8080/",
          "height": 403
        },
        "outputId": "11bd4e54-d255-4a8e-aaf5-f4624040a1f9"
      },
      "source": [
        "data = pd.Series([-4.1, -2, -2.9, -3.2, -6.2, -0.6, -0.9], index=['Mon', 'Tues', 'Wed', 'Thurs', 'Fri', 'Sat', 'Sun'])\n",
        "\n",
        "#create plot\n",
        "fig, ax = plt.subplots()\n",
        "\n",
        "#set style\n",
        "plt.style.use('fivethirtyeight')\n",
        "\n",
        "#create bar chart\n",
        "l = ax.bar(x = data.index, height = data.values, color = '#F2B5ED', width = 0.8)\n",
        "\n",
        "#set the off-color bar\n",
        "l[4].set_color('#F200DF')\n",
        "\n",
        "\n",
        "# set ticks\n",
        "ax.set_xticks (['Mon', 'Tues', 'Wed', 'Thurs', 'Fri', 'Sat', 'Sun'])\n",
        "ax.set_yticks (range(0, -7 , -1))\n",
        "\n",
        "# Move x-tick location\n",
        "ax.xaxis.set_ticks_position('top')\n",
        "\n",
        "# customize ticks\n",
        "ax.set_yticklabels ( ['0 ppt', -1, -2, -3, -4, -5, -6] , color = '#AEAEAE' , fontsize = 12, x = -0.1, ha = 'left')\n",
        "ax.set_xticklabels (['Mon', 'Tues', 'Wed', 'Thurs', 'Fri', 'Sat', 'Sun'], color = '#AEAEAE' , fontsize = 13)\n",
        "\n",
        "#no idea how to get the ticks to extend properly....  :(\n",
        "#ax.tick_params(direction='out', axis = 'y', pad=10, length=10, width=0.6, colors='#AEAEAE')\n",
        "ax.tick_params(direction='out', axis = 'x', pad=0, length=10, width=0.6, colors='#AEAEAE')\n",
        "\n",
        "# Set Title and subtitle\n",
        "ax.set_title('The Friday the 13th effect', x=0.28, y=1.3, fontweight = 'bold', fontsize = 19)\n",
        "ax.text(s='Difference in the share of U.S. births on the 13th of each month' , x= -1.5 ,y=1.5, fontsize = 14)\n",
        "ax.text(s='from the average of births on the 6th and the 20th, 1994-2014', x=-1.5, y=1.0, fontsize=14)\n",
        "\n",
        "# Set miscellaneous text on the bottom\n",
        "ax.text(s='Excludes holidays', x=-1.6, y=-7.1, color = '#AEAEAE', fontsize = 9)\n",
        "ax.text(s='____________________________________________________________________________________________', x=-1.65, y=-7.4, color = '#AEAEAE', fontsize = 10)\n",
        "ax.text(s='FIVETHIRTYEIGHT', x=-1.6, y=-7.8, color = '#AEAEAE', fontsize = 8)\n",
        "ax.text(s='SOURCES: CDC/NCHS, SOCIAL SECURITY ADMINISTRATION', x=2.8, y=-7.8, color = '#AEAEAE', fontsize = 8)\n",
        "\n",
        "plt.show()"
      ],
      "execution_count": 331,
      "outputs": [
        {
          "output_type": "display_data",
          "data": {
            "image/png": "[encoded data removed]",
            "text/plain": [
              "<Figure size 432x288 with 1 Axes>"
            ]
          },
          "metadata": {
            "tags": []
          }
        }
      ]
    },
    {
      "cell_type": "code",
      "metadata": {
        "id": "d2rSMGbL56RS",
        "colab_type": "code",
        "colab": {
          "base_uri": "https://localhost:8080/",
          "height": 381
        },
        "outputId": "cdad9b31-1d29-4632-f935-8176b544abdc"
      },
      "source": [
        "display(example)"
      ],
      "execution_count": 298,
      "outputs": [
        {
          "output_type": "display_data",
          "data": {
            "text/html": [
              "<img src=\"https://fivethirtyeight.com/wp-content/uploads/2016/05/bialik-fridaythe13th-2.png?w=575\" width=\"400\"/>"
            ],
            "text/plain": [
              "<IPython.core.display.Image object>"
            ]
          },
          "metadata": {
            "tags": []
          }
        }
      ]
    },
    {
      "cell_type": "markdown",
      "metadata": {
        "id": "0wSrBzmJyWaV",
        "colab_type": "text"
      },
      "source": [
        "# STRETCH OPTIONS\n",
        "\n",
        "### 1) Reproduce one of the following using the matplotlib or seaborn libraries:\n",
        "\n",
        "- [thanksgiving-2015](https://fivethirtyeight.com/features/heres-what-your-part-of-america-eats-on-thanksgiving/) \n",
        "- [candy-power-ranking](https://fivethirtyeight.com/features/the-ultimate-halloween-candy-power-ranking/) \n",
        "- or another example of your choice!\n",
        "\n",
        "### 2) Make more charts!\n",
        "\n",
        "Choose a chart you want to make, from [Visual Vocabulary - Vega Edition](http://ft.com/vocabulary).\n",
        "\n",
        "Find the chart in an example gallery of a Python data visualization library:\n",
        "- [Seaborn](http://seaborn.pydata.org/examples/index.html)\n",
        "- [Altair](https://altair-viz.github.io/gallery/index.html)\n",
        "- [Matplotlib](https://matplotlib.org/gallery.html)\n",
        "- [Pandas](https://pandas.pydata.org/pandas-docs/stable/visualization.html)\n",
        "\n",
        "Reproduce the chart. [Optionally, try the \"Ben Franklin Method.\"](https://docs.google.com/document/d/1ubOw9B3Hfip27hF2ZFnW3a3z9xAgrUDRReOEo-FHCVs/edit) If you want, experiment and make changes.\n",
        "\n",
        "Take notes. Consider sharing your work with your cohort!"
      ]
    },
    {
      "cell_type": "code",
      "metadata": {
        "id": "dRJkKftiy5BJ",
        "colab_type": "code",
        "colab": {}
      },
      "source": [
        "# More Work Here"
      ],
      "execution_count": 0,
      "outputs": []
    }
  ]
}