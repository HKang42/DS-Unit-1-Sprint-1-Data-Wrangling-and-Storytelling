{
  "nbformat": 4,
  "nbformat_minor": 0,
  "metadata": {
    "colab": {
      "name": "Harrison Kang - LS_DS_112_Make_Features_Assignment.ipynb",
      "provenance": [],
      "collapsed_sections": [],
      "include_colab_link": true
    },
    "kernelspec": {
      "display_name": "Python 3",
      "language": "python",
      "name": "python3"
    },
    "language_info": {
      "codemirror_mode": {
        "name": "ipython",
        "version": 3
      },
      "file_extension": ".py",
      "mimetype": "text/x-python",
      "name": "python",
      "nbconvert_exporter": "python",
      "pygments_lexer": "ipython3",
      "version": "3.7.1"
    }
  },
  "cells": [
    {
      "cell_type": "markdown",
      "metadata": {
        "id": "view-in-github",
        "colab_type": "text"
      },
      "source": [
        "<a href=\"https://colab.research.google.com/github/HKang42/DS-Unit-1-Sprint-1-Data-Wrangling-and-Storytelling/blob/master/module2-make-features/Harrison_Kang_LS_DS_112_Make_Features_Assignment.ipynb\" target=\"_parent\"><img src=\"https://colab.research.google.com/assets/colab-badge.svg\" alt=\"Open In Colab\"/></a>"
      ]
    },
    {
      "cell_type": "markdown",
      "metadata": {
        "id": "SnDJqBLi0FYW",
        "colab_type": "text"
      },
      "source": [
        "<img align=\"left\" src=\"https://lever-client-logos.s3.amazonaws.com/864372b1-534c-480e-acd5-9711f850815c-1524247202159.png\" width=200> "
      ]
    },
    {
      "cell_type": "markdown",
      "metadata": {
        "id": "W5GjI1z5yNG4",
        "colab_type": "text"
      },
      "source": [
        "# Assignment:\n",
        "\n",
        "- Replicate the lesson code.\n",
        "\n",
        " - This means that if you haven't followed along already, type out the things that we did in class. Forcing your fingers to hit each key will help you internalize the syntax of what we're doing. Make sure you understand each line of code that you're writing, google things that you don't fully understand.\n",
        " - [Lambda Learning Method for DS - By Ryan Herr](https://docs.google.com/document/d/1ubOw9B3Hfip27hF2ZFnW3a3z9xAgrUDRReOEo-FHCVs/edit?usp=sharing)\n",
        "- Convert the `term` column from string to integer.\n",
        "- Make a column named `loan_status_is_great`. It should contain the integer 1 if `loan_status` is \"Current\" or \"Fully Paid.\" Else it should contain the integer 0.\n",
        "- Make `last_pymnt_d_month` and `last_pymnt_d_year` columns."
      ]
    },
    {
      "cell_type": "code",
      "metadata": {
        "id": "AazB4eFwym2p",
        "colab_type": "code",
        "colab": {}
      },
      "source": [
        "##### Begin Working Here #####\n",
        "from google.colab import files\n",
        "\n",
        "uploaded = files.upload()\n",
        "\n",
        "# file downloaded from  \"https://files.slack.com/files-pri/T4JUEB3ME-FTV8UBD2L/download/loanstats_2017q1_2.csv\""
      ],
      "execution_count": 0,
      "outputs": []
    },
    {
      "cell_type": "code",
      "metadata": {
        "id": "TbxHPaeS-7mi",
        "colab_type": "code",
        "outputId": "54554dbf-46b4-495d-9b21-907f383ec4d3",
        "colab": {
          "base_uri": "https://localhost:8080/",
          "height": 389
        }
      },
      "source": [
        "import pandas as pd\n",
        "\n",
        "df = pd.read_csv('LoanStats_2017Q1 2.csv', skiprows=1, skipfooter=2, error_bad_lines=False)\n",
        "\n",
        "df.head()"
      ],
      "execution_count": 5,
      "outputs": [
        {
          "output_type": "stream",
          "text": [
            "/usr/local/lib/python3.6/dist-packages/ipykernel_launcher.py:3: ParserWarning: Falling back to the 'python' engine because the 'c' engine does not support skipfooter; you can avoid this warning by specifying engine='python'.\n",
            "  This is separate from the ipykernel package so we can avoid doing imports until\n",
            "Skipping line 50108: unexpected end of data. Error could possibly be due to parsing errors in the skipped footer rows (the skipfooter keyword is only applied after Python's csv library has parsed all rows).\n"
          ],
          "name": "stderr"
        },
        {
          "output_type": "execute_result",
          "data": {
            "text/html": [
              "<div>\n",
              "<style scoped>\n",
              "    .dataframe tbody tr th:only-of-type {\n",
              "        vertical-align: middle;\n",
              "    }\n",
              "\n",
              "    .dataframe tbody tr th {\n",
              "        vertical-align: top;\n",
              "    }\n",
              "\n",
              "    .dataframe thead th {\n",
              "        text-align: right;\n",
              "    }\n",
              "</style>\n",
              "<table border=\"1\" class=\"dataframe\">\n",
              "  <thead>\n",
              "    <tr style=\"text-align: right;\">\n",
              "      <th></th>\n",
              "      <th>id</th>\n",
              "      <th>member_id</th>\n",
              "      <th>loan_amnt</th>\n",
              "      <th>funded_amnt</th>\n",
              "      <th>funded_amnt_inv</th>\n",
              "      <th>term</th>\n",
              "      <th>int_rate</th>\n",
              "      <th>installment</th>\n",
              "      <th>grade</th>\n",
              "      <th>sub_grade</th>\n",
              "      <th>emp_title</th>\n",
              "      <th>emp_length</th>\n",
              "      <th>home_ownership</th>\n",
              "      <th>annual_inc</th>\n",
              "      <th>verification_status</th>\n",
              "      <th>issue_d</th>\n",
              "      <th>loan_status</th>\n",
              "      <th>pymnt_plan</th>\n",
              "      <th>url</th>\n",
              "      <th>desc</th>\n",
              "      <th>purpose</th>\n",
              "      <th>title</th>\n",
              "      <th>zip_code</th>\n",
              "      <th>addr_state</th>\n",
              "      <th>dti</th>\n",
              "      <th>delinq_2yrs</th>\n",
              "      <th>earliest_cr_line</th>\n",
              "      <th>inq_last_6mths</th>\n",
              "      <th>mths_since_last_delinq</th>\n",
              "      <th>mths_since_last_record</th>\n",
              "      <th>open_acc</th>\n",
              "      <th>pub_rec</th>\n",
              "      <th>revol_bal</th>\n",
              "      <th>revol_util</th>\n",
              "      <th>total_acc</th>\n",
              "      <th>initial_list_status</th>\n",
              "      <th>out_prncp</th>\n",
              "      <th>out_prncp_inv</th>\n",
              "      <th>total_pymnt</th>\n",
              "      <th>total_pymnt_inv</th>\n",
              "      <th>...</th>\n",
              "      <th>mo_sin_rcnt_rev_tl_op</th>\n",
              "      <th>mo_sin_rcnt_tl</th>\n",
              "      <th>mort_acc</th>\n",
              "      <th>mths_since_recent_bc</th>\n",
              "      <th>mths_since_recent_bc_dlq</th>\n",
              "      <th>mths_since_recent_inq</th>\n",
              "      <th>mths_since_recent_revol_delinq</th>\n",
              "      <th>num_accts_ever_120_pd</th>\n",
              "      <th>num_actv_bc_tl</th>\n",
              "      <th>num_actv_rev_tl</th>\n",
              "      <th>num_bc_sats</th>\n",
              "      <th>num_bc_tl</th>\n",
              "      <th>num_il_tl</th>\n",
              "      <th>num_op_rev_tl</th>\n",
              "      <th>num_rev_accts</th>\n",
              "      <th>num_rev_tl_bal_gt_0</th>\n",
              "      <th>num_sats</th>\n",
              "      <th>num_tl_120dpd_2m</th>\n",
              "      <th>num_tl_30dpd</th>\n",
              "      <th>num_tl_90g_dpd_24m</th>\n",
              "      <th>num_tl_op_past_12m</th>\n",
              "      <th>pct_tl_nvr_dlq</th>\n",
              "      <th>percent_bc_gt_75</th>\n",
              "      <th>pub_rec_bankruptcies</th>\n",
              "      <th>tax_liens</th>\n",
              "      <th>tot_hi_cred_lim</th>\n",
              "      <th>total_bal_ex_mort</th>\n",
              "      <th>total_bc_limit</th>\n",
              "      <th>total_il_high_credit_limit</th>\n",
              "      <th>revol_bal_joint</th>\n",
              "      <th>sec_app_earliest_cr_line</th>\n",
              "      <th>sec_app_inq_last_6mths</th>\n",
              "      <th>sec_app_mort_acc</th>\n",
              "      <th>sec_app_open_acc</th>\n",
              "      <th>sec_app_revol_util</th>\n",
              "      <th>sec_app_open_il_6m</th>\n",
              "      <th>sec_app_num_rev_accts</th>\n",
              "      <th>sec_app_chargeoff_within_12_mths</th>\n",
              "      <th>sec_app_collections_12_mths_ex_med</th>\n",
              "      <th>sec_app_mths_since_last_major_derog</th>\n",
              "    </tr>\n",
              "  </thead>\n",
              "  <tbody>\n",
              "    <tr>\n",
              "      <th>0</th>\n",
              "      <td>NaN</td>\n",
              "      <td>NaN</td>\n",
              "      <td>3600</td>\n",
              "      <td>3600</td>\n",
              "      <td>3600</td>\n",
              "      <td>36 months</td>\n",
              "      <td>7.49%</td>\n",
              "      <td>111.97</td>\n",
              "      <td>A</td>\n",
              "      <td>A4</td>\n",
              "      <td>Code/Compliance Inspector</td>\n",
              "      <td>10+ years</td>\n",
              "      <td>MORTGAGE</td>\n",
              "      <td>120000.0</td>\n",
              "      <td>Not Verified</td>\n",
              "      <td>Mar-2017</td>\n",
              "      <td>Issued</td>\n",
              "      <td>n</td>\n",
              "      <td>NaN</td>\n",
              "      <td>NaN</td>\n",
              "      <td>other</td>\n",
              "      <td>Other</td>\n",
              "      <td>467xx</td>\n",
              "      <td>IN</td>\n",
              "      <td>18.90</td>\n",
              "      <td>0</td>\n",
              "      <td>Aug-1992</td>\n",
              "      <td>1</td>\n",
              "      <td>NaN</td>\n",
              "      <td>96.0</td>\n",
              "      <td>18</td>\n",
              "      <td>1</td>\n",
              "      <td>5658</td>\n",
              "      <td>14.9%</td>\n",
              "      <td>33</td>\n",
              "      <td>w</td>\n",
              "      <td>3600.00</td>\n",
              "      <td>3600.00</td>\n",
              "      <td>0.00</td>\n",
              "      <td>0.00</td>\n",
              "      <td>...</td>\n",
              "      <td>3</td>\n",
              "      <td>2</td>\n",
              "      <td>0</td>\n",
              "      <td>9.0</td>\n",
              "      <td>NaN</td>\n",
              "      <td>2.0</td>\n",
              "      <td>NaN</td>\n",
              "      <td>0</td>\n",
              "      <td>1</td>\n",
              "      <td>4</td>\n",
              "      <td>2</td>\n",
              "      <td>3</td>\n",
              "      <td>17</td>\n",
              "      <td>12</td>\n",
              "      <td>16</td>\n",
              "      <td>4</td>\n",
              "      <td>18</td>\n",
              "      <td>0.0</td>\n",
              "      <td>0</td>\n",
              "      <td>0</td>\n",
              "      <td>6</td>\n",
              "      <td>100.0</td>\n",
              "      <td>0.0</td>\n",
              "      <td>1</td>\n",
              "      <td>0</td>\n",
              "      <td>93599</td>\n",
              "      <td>36506</td>\n",
              "      <td>9000</td>\n",
              "      <td>55699</td>\n",
              "      <td>NaN</td>\n",
              "      <td>NaN</td>\n",
              "      <td>NaN</td>\n",
              "      <td>NaN</td>\n",
              "      <td>NaN</td>\n",
              "      <td>NaN</td>\n",
              "      <td>NaN</td>\n",
              "      <td>NaN</td>\n",
              "      <td>NaN</td>\n",
              "      <td>NaN</td>\n",
              "      <td>NaN</td>\n",
              "    </tr>\n",
              "    <tr>\n",
              "      <th>1</th>\n",
              "      <td>NaN</td>\n",
              "      <td>NaN</td>\n",
              "      <td>15000</td>\n",
              "      <td>15000</td>\n",
              "      <td>15000</td>\n",
              "      <td>60 months</td>\n",
              "      <td>14.99%</td>\n",
              "      <td>356.78</td>\n",
              "      <td>C</td>\n",
              "      <td>C4</td>\n",
              "      <td>Senior Superintendent</td>\n",
              "      <td>10+ years</td>\n",
              "      <td>MORTGAGE</td>\n",
              "      <td>125000.0</td>\n",
              "      <td>Not Verified</td>\n",
              "      <td>Mar-2017</td>\n",
              "      <td>Issued</td>\n",
              "      <td>n</td>\n",
              "      <td>NaN</td>\n",
              "      <td>NaN</td>\n",
              "      <td>other</td>\n",
              "      <td>Other</td>\n",
              "      <td>064xx</td>\n",
              "      <td>CT</td>\n",
              "      <td>17.25</td>\n",
              "      <td>0</td>\n",
              "      <td>Sep-1989</td>\n",
              "      <td>0</td>\n",
              "      <td>NaN</td>\n",
              "      <td>NaN</td>\n",
              "      <td>11</td>\n",
              "      <td>0</td>\n",
              "      <td>53167</td>\n",
              "      <td>75.3%</td>\n",
              "      <td>18</td>\n",
              "      <td>w</td>\n",
              "      <td>15000.00</td>\n",
              "      <td>15000.00</td>\n",
              "      <td>0.00</td>\n",
              "      <td>0.00</td>\n",
              "      <td>...</td>\n",
              "      <td>16</td>\n",
              "      <td>16</td>\n",
              "      <td>2</td>\n",
              "      <td>16.0</td>\n",
              "      <td>NaN</td>\n",
              "      <td>16.0</td>\n",
              "      <td>NaN</td>\n",
              "      <td>0</td>\n",
              "      <td>5</td>\n",
              "      <td>7</td>\n",
              "      <td>6</td>\n",
              "      <td>8</td>\n",
              "      <td>6</td>\n",
              "      <td>8</td>\n",
              "      <td>10</td>\n",
              "      <td>7</td>\n",
              "      <td>11</td>\n",
              "      <td>0.0</td>\n",
              "      <td>0</td>\n",
              "      <td>0</td>\n",
              "      <td>0</td>\n",
              "      <td>100.0</td>\n",
              "      <td>66.7</td>\n",
              "      <td>0</td>\n",
              "      <td>0</td>\n",
              "      <td>148572</td>\n",
              "      <td>69364</td>\n",
              "      <td>60300</td>\n",
              "      <td>30224</td>\n",
              "      <td>NaN</td>\n",
              "      <td>NaN</td>\n",
              "      <td>NaN</td>\n",
              "      <td>NaN</td>\n",
              "      <td>NaN</td>\n",
              "      <td>NaN</td>\n",
              "      <td>NaN</td>\n",
              "      <td>NaN</td>\n",
              "      <td>NaN</td>\n",
              "      <td>NaN</td>\n",
              "      <td>NaN</td>\n",
              "    </tr>\n",
              "    <tr>\n",
              "      <th>2</th>\n",
              "      <td>NaN</td>\n",
              "      <td>NaN</td>\n",
              "      <td>8400</td>\n",
              "      <td>8400</td>\n",
              "      <td>8400</td>\n",
              "      <td>36 months</td>\n",
              "      <td>11.39%</td>\n",
              "      <td>276.56</td>\n",
              "      <td>B</td>\n",
              "      <td>B3</td>\n",
              "      <td>IT Tech</td>\n",
              "      <td>8 years</td>\n",
              "      <td>MORTGAGE</td>\n",
              "      <td>50000.0</td>\n",
              "      <td>Source Verified</td>\n",
              "      <td>Mar-2017</td>\n",
              "      <td>Issued</td>\n",
              "      <td>n</td>\n",
              "      <td>NaN</td>\n",
              "      <td>NaN</td>\n",
              "      <td>other</td>\n",
              "      <td>Other</td>\n",
              "      <td>454xx</td>\n",
              "      <td>OH</td>\n",
              "      <td>15.63</td>\n",
              "      <td>0</td>\n",
              "      <td>Apr-2005</td>\n",
              "      <td>0</td>\n",
              "      <td>NaN</td>\n",
              "      <td>NaN</td>\n",
              "      <td>14</td>\n",
              "      <td>0</td>\n",
              "      <td>12831</td>\n",
              "      <td>30.3%</td>\n",
              "      <td>30</td>\n",
              "      <td>w</td>\n",
              "      <td>8400.00</td>\n",
              "      <td>8400.00</td>\n",
              "      <td>0.00</td>\n",
              "      <td>0.00</td>\n",
              "      <td>...</td>\n",
              "      <td>4</td>\n",
              "      <td>4</td>\n",
              "      <td>4</td>\n",
              "      <td>4.0</td>\n",
              "      <td>NaN</td>\n",
              "      <td>10.0</td>\n",
              "      <td>NaN</td>\n",
              "      <td>0</td>\n",
              "      <td>4</td>\n",
              "      <td>5</td>\n",
              "      <td>7</td>\n",
              "      <td>11</td>\n",
              "      <td>9</td>\n",
              "      <td>11</td>\n",
              "      <td>16</td>\n",
              "      <td>5</td>\n",
              "      <td>14</td>\n",
              "      <td>0.0</td>\n",
              "      <td>0</td>\n",
              "      <td>0</td>\n",
              "      <td>5</td>\n",
              "      <td>100.0</td>\n",
              "      <td>14.3</td>\n",
              "      <td>0</td>\n",
              "      <td>0</td>\n",
              "      <td>205671</td>\n",
              "      <td>51591</td>\n",
              "      <td>36100</td>\n",
              "      <td>36876</td>\n",
              "      <td>NaN</td>\n",
              "      <td>NaN</td>\n",
              "      <td>NaN</td>\n",
              "      <td>NaN</td>\n",
              "      <td>NaN</td>\n",
              "      <td>NaN</td>\n",
              "      <td>NaN</td>\n",
              "      <td>NaN</td>\n",
              "      <td>NaN</td>\n",
              "      <td>NaN</td>\n",
              "      <td>NaN</td>\n",
              "    </tr>\n",
              "    <tr>\n",
              "      <th>3</th>\n",
              "      <td>NaN</td>\n",
              "      <td>NaN</td>\n",
              "      <td>4000</td>\n",
              "      <td>4000</td>\n",
              "      <td>4000</td>\n",
              "      <td>36 months</td>\n",
              "      <td>10.49%</td>\n",
              "      <td>130.00</td>\n",
              "      <td>B</td>\n",
              "      <td>B2</td>\n",
              "      <td>Dental hygienist</td>\n",
              "      <td>2 years</td>\n",
              "      <td>RENT</td>\n",
              "      <td>50000.0</td>\n",
              "      <td>Source Verified</td>\n",
              "      <td>Mar-2017</td>\n",
              "      <td>Issued</td>\n",
              "      <td>n</td>\n",
              "      <td>NaN</td>\n",
              "      <td>NaN</td>\n",
              "      <td>major_purchase</td>\n",
              "      <td>Major purchase</td>\n",
              "      <td>768xx</td>\n",
              "      <td>TX</td>\n",
              "      <td>33.61</td>\n",
              "      <td>1</td>\n",
              "      <td>Apr-2003</td>\n",
              "      <td>0</td>\n",
              "      <td>6.0</td>\n",
              "      <td>37.0</td>\n",
              "      <td>10</td>\n",
              "      <td>1</td>\n",
              "      <td>4388</td>\n",
              "      <td>33.2%</td>\n",
              "      <td>33</td>\n",
              "      <td>w</td>\n",
              "      <td>4000.00</td>\n",
              "      <td>4000.00</td>\n",
              "      <td>0.00</td>\n",
              "      <td>0.00</td>\n",
              "      <td>...</td>\n",
              "      <td>15</td>\n",
              "      <td>7</td>\n",
              "      <td>6</td>\n",
              "      <td>120.0</td>\n",
              "      <td>NaN</td>\n",
              "      <td>9.0</td>\n",
              "      <td>61.0</td>\n",
              "      <td>1</td>\n",
              "      <td>1</td>\n",
              "      <td>4</td>\n",
              "      <td>1</td>\n",
              "      <td>3</td>\n",
              "      <td>15</td>\n",
              "      <td>6</td>\n",
              "      <td>12</td>\n",
              "      <td>4</td>\n",
              "      <td>10</td>\n",
              "      <td>0.0</td>\n",
              "      <td>0</td>\n",
              "      <td>0</td>\n",
              "      <td>1</td>\n",
              "      <td>87.5</td>\n",
              "      <td>100.0</td>\n",
              "      <td>0</td>\n",
              "      <td>0</td>\n",
              "      <td>152852</td>\n",
              "      <td>136208</td>\n",
              "      <td>2500</td>\n",
              "      <td>139652</td>\n",
              "      <td>NaN</td>\n",
              "      <td>NaN</td>\n",
              "      <td>NaN</td>\n",
              "      <td>NaN</td>\n",
              "      <td>NaN</td>\n",
              "      <td>NaN</td>\n",
              "      <td>NaN</td>\n",
              "      <td>NaN</td>\n",
              "      <td>NaN</td>\n",
              "      <td>NaN</td>\n",
              "      <td>NaN</td>\n",
              "    </tr>\n",
              "    <tr>\n",
              "      <th>4</th>\n",
              "      <td>NaN</td>\n",
              "      <td>NaN</td>\n",
              "      <td>6000</td>\n",
              "      <td>6000</td>\n",
              "      <td>6000</td>\n",
              "      <td>36 months</td>\n",
              "      <td>7.24%</td>\n",
              "      <td>185.93</td>\n",
              "      <td>A</td>\n",
              "      <td>A3</td>\n",
              "      <td>Program Manager</td>\n",
              "      <td>3 years</td>\n",
              "      <td>RENT</td>\n",
              "      <td>125000.0</td>\n",
              "      <td>Source Verified</td>\n",
              "      <td>Mar-2017</td>\n",
              "      <td>Current</td>\n",
              "      <td>n</td>\n",
              "      <td>NaN</td>\n",
              "      <td>NaN</td>\n",
              "      <td>credit_card</td>\n",
              "      <td>Credit card refinancing</td>\n",
              "      <td>981xx</td>\n",
              "      <td>WA</td>\n",
              "      <td>9.25</td>\n",
              "      <td>0</td>\n",
              "      <td>Jul-2004</td>\n",
              "      <td>1</td>\n",
              "      <td>54.0</td>\n",
              "      <td>NaN</td>\n",
              "      <td>16</td>\n",
              "      <td>0</td>\n",
              "      <td>9571</td>\n",
              "      <td>41.3%</td>\n",
              "      <td>27</td>\n",
              "      <td>w</td>\n",
              "      <td>5850.27</td>\n",
              "      <td>5850.27</td>\n",
              "      <td>164.21</td>\n",
              "      <td>164.21</td>\n",
              "      <td>...</td>\n",
              "      <td>7</td>\n",
              "      <td>3</td>\n",
              "      <td>0</td>\n",
              "      <td>7.0</td>\n",
              "      <td>NaN</td>\n",
              "      <td>4.0</td>\n",
              "      <td>NaN</td>\n",
              "      <td>9</td>\n",
              "      <td>3</td>\n",
              "      <td>3</td>\n",
              "      <td>5</td>\n",
              "      <td>5</td>\n",
              "      <td>22</td>\n",
              "      <td>5</td>\n",
              "      <td>5</td>\n",
              "      <td>3</td>\n",
              "      <td>16</td>\n",
              "      <td>0.0</td>\n",
              "      <td>0</td>\n",
              "      <td>0</td>\n",
              "      <td>3</td>\n",
              "      <td>59.1</td>\n",
              "      <td>20.0</td>\n",
              "      <td>0</td>\n",
              "      <td>0</td>\n",
              "      <td>72865</td>\n",
              "      <td>60622</td>\n",
              "      <td>23200</td>\n",
              "      <td>49665</td>\n",
              "      <td>NaN</td>\n",
              "      <td>NaN</td>\n",
              "      <td>NaN</td>\n",
              "      <td>NaN</td>\n",
              "      <td>NaN</td>\n",
              "      <td>NaN</td>\n",
              "      <td>NaN</td>\n",
              "      <td>NaN</td>\n",
              "      <td>NaN</td>\n",
              "      <td>NaN</td>\n",
              "      <td>NaN</td>\n",
              "    </tr>\n",
              "  </tbody>\n",
              "</table>\n",
              "<p>5 rows × 122 columns</p>\n",
              "</div>"
            ],
            "text/plain": [
              "   id  ...  sec_app_mths_since_last_major_derog\n",
              "0 NaN  ...                                  NaN\n",
              "1 NaN  ...                                  NaN\n",
              "2 NaN  ...                                  NaN\n",
              "3 NaN  ...                                  NaN\n",
              "4 NaN  ...                                  NaN\n",
              "\n",
              "[5 rows x 122 columns]"
            ]
          },
          "metadata": {
            "tags": []
          },
          "execution_count": 5
        }
      ]
    },
    {
      "cell_type": "markdown",
      "metadata": {
        "id": "fTgXMtfoL2By",
        "colab_type": "text"
      },
      "source": [
        "**Convert the term column from string to integer.**"
      ]
    },
    {
      "cell_type": "code",
      "metadata": {
        "id": "RNw0QJZHEswh",
        "colab_type": "code",
        "colab": {
          "base_uri": "https://localhost:8080/",
          "height": 119
        },
        "outputId": "1e841b29-d5c0-486c-b5dd-c5ea55719c04"
      },
      "source": [
        "#check for null values\n",
        "\n",
        "print( \"Number of null values is: \" + str( df['term'].isnull().sum() ))\n",
        "\n",
        "#check what the values look like\n",
        "\n",
        "print( \"\\nValue counts are: \\n\" + str(df['term'].value_counts() ))"
      ],
      "execution_count": 7,
      "outputs": [
        {
          "output_type": "stream",
          "text": [
            "Number of null values is: 0\n",
            "\n",
            "Value counts are: \n",
            " 36 months    37388\n",
            " 60 months    12715\n",
            "Name: term, dtype: int64\n"
          ],
          "name": "stdout"
        }
      ]
    },
    {
      "cell_type": "code",
      "metadata": {
        "id": "iwrtLSxIHDsS",
        "colab_type": "code",
        "colab": {}
      },
      "source": [
        "# write function to convert from string to int\n",
        "\n",
        "def month_stripper(month):\n",
        "  int_month = month.strip('months').strip()\n",
        "  return int(int_month)"
      ],
      "execution_count": 0,
      "outputs": []
    },
    {
      "cell_type": "code",
      "metadata": {
        "id": "fhMgnLXAI54I",
        "colab_type": "code",
        "colab": {}
      },
      "source": [
        "# apply strip function to database\n",
        "\n",
        "df['term'] = df['term'].apply(month_stripper)"
      ],
      "execution_count": 0,
      "outputs": []
    },
    {
      "cell_type": "code",
      "metadata": {
        "id": "Ij05_F9MLdsC",
        "colab_type": "code",
        "colab": {
          "base_uri": "https://localhost:8080/",
          "height": 68
        },
        "outputId": "da741033-dd9b-4223-b098-4827089d2a8a"
      },
      "source": [
        "# check if we succeeded\n",
        "\n",
        "df['term'].value_counts()"
      ],
      "execution_count": 10,
      "outputs": [
        {
          "output_type": "execute_result",
          "data": {
            "text/plain": [
              "36    37388\n",
              "60    12715\n",
              "Name: term, dtype: int64"
            ]
          },
          "metadata": {
            "tags": []
          },
          "execution_count": 10
        }
      ]
    },
    {
      "cell_type": "markdown",
      "metadata": {
        "id": "sXK805OvL30z",
        "colab_type": "text"
      },
      "source": [
        "**Make a column named loan_status_is_great. It should contain the integer 1 if loan_status is \"Current\" or \"Fully Paid.\" Else it should contain the integer 0.**"
      ]
    },
    {
      "cell_type": "code",
      "metadata": {
        "id": "8c7UrKZjMj9p",
        "colab_type": "code",
        "colab": {
          "base_uri": "https://localhost:8080/",
          "height": 187
        },
        "outputId": "32db501f-067e-43dd-a3e8-506f53f88039"
      },
      "source": [
        "#check for null values\n",
        "\n",
        "print( \"Number of null values is: \" + str( df['loan_status'].isnull().sum() ))\n",
        "\n",
        "#check what the values look like\n",
        "\n",
        "print( \"\\nValue counts are: \\n\" + str(df['loan_status'].value_counts() ))"
      ],
      "execution_count": 11,
      "outputs": [
        {
          "output_type": "stream",
          "text": [
            "Number of null values is: 0\n",
            "\n",
            "Value counts are: \n",
            "Current               34186\n",
            "Issued                15071\n",
            "Fully Paid              700\n",
            "In Grace Period         110\n",
            "Late (16-30 days)        33\n",
            "Late (31-120 days)        3\n",
            "Name: loan_status, dtype: int64\n"
          ],
          "name": "stdout"
        }
      ]
    },
    {
      "cell_type": "code",
      "metadata": {
        "id": "dq9AQg28Lu0b",
        "colab_type": "code",
        "colab": {}
      },
      "source": [
        "# write function to check loan status and return either 1 (for current or fully paid loans) or 0 (any other case)\n",
        "\n",
        "def loan_checker(status):\n",
        "  if status == \"Current\" or status == \"Fully Paid\":\n",
        "    return 1\n",
        "  \n",
        "  else:\n",
        "    return 0"
      ],
      "execution_count": 0,
      "outputs": []
    },
    {
      "cell_type": "code",
      "metadata": {
        "id": "JpIUkCT6MWPI",
        "colab_type": "code",
        "colab": {}
      },
      "source": [
        "# Apply function to database\n",
        "\n",
        "df['loan_status_is_great'] = df['loan_status'].apply(loan_checker)"
      ],
      "execution_count": 0,
      "outputs": []
    },
    {
      "cell_type": "code",
      "metadata": {
        "id": "9OdJng5GN5kN",
        "colab_type": "code",
        "colab": {
          "base_uri": "https://localhost:8080/",
          "height": 68
        },
        "outputId": "2dcbb583-a693-4d53-a5f6-57a48513a947"
      },
      "source": [
        "# check if we succeeded\n",
        "\n",
        "df['loan_status_is_great'].value_counts()"
      ],
      "execution_count": 28,
      "outputs": [
        {
          "output_type": "execute_result",
          "data": {
            "text/plain": [
              "1    34886\n",
              "0    15217\n",
              "Name: loan_status_is_great, dtype: int64"
            ]
          },
          "metadata": {
            "tags": []
          },
          "execution_count": 28
        }
      ]
    },
    {
      "cell_type": "markdown",
      "metadata": {
        "id": "NFjM6kLhRLZH",
        "colab_type": "text"
      },
      "source": [
        "**Make last_pymnt_d_month and last_pymnt_d_year columns.**"
      ]
    },
    {
      "cell_type": "code",
      "metadata": {
        "id": "-6oDyLm8VMpZ",
        "colab_type": "code",
        "colab": {
          "base_uri": "https://localhost:8080/",
          "height": 204
        },
        "outputId": "e70a2f5c-5cdf-4739-b8dc-f3a6925d752a"
      },
      "source": [
        "df['last_pymnt_d'].head(10)"
      ],
      "execution_count": 42,
      "outputs": [
        {
          "output_type": "execute_result",
          "data": {
            "text/plain": [
              "0         NaN\n",
              "1         NaN\n",
              "2         NaN\n",
              "3         NaN\n",
              "4    Apr-2017\n",
              "5         NaN\n",
              "6         NaN\n",
              "7         NaN\n",
              "8         NaN\n",
              "9         NaN\n",
              "Name: last_pymnt_d, dtype: object"
            ]
          },
          "metadata": {
            "tags": []
          },
          "execution_count": 42
        }
      ]
    },
    {
      "cell_type": "code",
      "metadata": {
        "id": "_4uc0q4IWsmW",
        "colab_type": "code",
        "colab": {
          "base_uri": "https://localhost:8080/",
          "height": 136
        },
        "outputId": "41c0aee0-8f2e-444f-b829-de69b9cfa614"
      },
      "source": [
        "#check for null values\n",
        "\n",
        "print( \"Number of null values is: \" + str( df['last_pymnt_d'].isnull().sum() ))\n",
        "\n",
        "#check what the values look like\n",
        "\n",
        "print( \"\\nValue counts are: \\n\" + str(df['last_pymnt_d'].value_counts() ))"
      ],
      "execution_count": 39,
      "outputs": [
        {
          "output_type": "stream",
          "text": [
            "Number of null values is: 17062\n",
            "\n",
            "Value counts are: \n",
            "Apr-2017    22969\n",
            "Mar-2017    10063\n",
            "Feb-2017        9\n",
            "Name: last_pymnt_d, dtype: int64\n"
          ],
          "name": "stdout"
        }
      ]
    },
    {
      "cell_type": "markdown",
      "metadata": {
        "id": "haNAxzmUZU4G",
        "colab_type": "text"
      },
      "source": [
        "the pd.to_datetime() function can handle NaN values so we're probably fine leaving them as is"
      ]
    },
    {
      "cell_type": "code",
      "metadata": {
        "id": "4k14xHfbXZ6x",
        "colab_type": "code",
        "colab": {}
      },
      "source": [
        "def last_month(date):\n",
        "  month = pd.to_datetime( date ).month\n",
        "  return month\n",
        "\n",
        "def last_year(date):\n",
        "  year = pd.to_datetime( date ).year\n",
        "  return year"
      ],
      "execution_count": 0,
      "outputs": []
    },
    {
      "cell_type": "code",
      "metadata": {
        "id": "xDD5KmF1X1Dn",
        "colab_type": "code",
        "colab": {}
      },
      "source": [
        "df['last_pymnt_d_month'] = df['last_pymnt_d'].apply(last_month)\n",
        "\n",
        "df['last_pymnt_d_year'] = df['last_pymnt_d'].apply(last_year)"
      ],
      "execution_count": 0,
      "outputs": []
    },
    {
      "cell_type": "code",
      "metadata": {
        "id": "hf1X78fqZ3xl",
        "colab_type": "code",
        "colab": {
          "base_uri": "https://localhost:8080/",
          "height": 221
        },
        "outputId": "e110ac90-7d79-4a67-a682-3026610c257a"
      },
      "source": [
        "# Check values\n",
        "\n",
        "print(\"Month\\n\")\n",
        "print( df['last_pymnt_d_month'].value_counts())\n",
        "\n",
        "print(\"\\n\\nYear\\n\")\n",
        "print( df['last_pymnt_d_year'].value_counts())"
      ],
      "execution_count": 68,
      "outputs": [
        {
          "output_type": "stream",
          "text": [
            "Month\n",
            "\n",
            "4.0    22969\n",
            "3.0    10063\n",
            "2.0        9\n",
            "Name: last_pymnt_d_month, dtype: int64\n",
            "\n",
            "\n",
            "Year\n",
            "\n",
            "2017.0    33041\n",
            "Name: last_pymnt_d_year, dtype: int64\n"
          ],
          "name": "stdout"
        }
      ]
    },
    {
      "cell_type": "markdown",
      "metadata": {
        "colab_type": "text",
        "id": "L8k0LiHmo5EU"
      },
      "source": [
        "# Stretch Goals\n",
        "\n",
        "You can do more with the LendingClub or Instacart datasets.\n",
        "\n",
        "LendingClub options:\n",
        "- There's one other column in the dataframe with percent signs. Remove them and convert to floats. You'll need to handle missing values.\n",
        "- Modify the `emp_title` column to replace titles with 'Other' if the title is not in the top 20. \n",
        "- Take initiatve and work on your own ideas!\n",
        "\n",
        "Instacart options:\n",
        "- Read [Instacart Market Basket Analysis, Winner's Interview: 2nd place, Kazuki Onodera](http://blog.kaggle.com/2017/09/21/instacart-market-basket-analysis-winners-interview-2nd-place-kazuki-onodera/), especially the **Feature Engineering** section. (Can you choose one feature from his bulleted lists, and try to engineer it with pandas code?)\n",
        "- Read and replicate parts of [Simple Exploration Notebook - Instacart](https://www.kaggle.com/sudalairajkumar/simple-exploration-notebook-instacart). (It's the Python Notebook with the most upvotes for this Kaggle competition.)\n",
        "- Take initiative and work on your own ideas!"
      ]
    },
    {
      "cell_type": "markdown",
      "metadata": {
        "colab_type": "text",
        "id": "0_7PXF7lpEXg"
      },
      "source": [
        "You can uncomment and run the cells below to re-download and extract the Instacart data"
      ]
    },
    {
      "cell_type": "code",
      "metadata": {
        "id": "urIePNa0yNG6",
        "colab_type": "code",
        "colab": {}
      },
      "source": [
        "# !wget https://s3.amazonaws.com/instacart-datasets/instacart_online_grocery_shopping_2017_05_01.tar.gz"
      ],
      "execution_count": 0,
      "outputs": []
    },
    {
      "cell_type": "code",
      "metadata": {
        "id": "X9zEyu-uyNG8",
        "colab_type": "code",
        "colab": {}
      },
      "source": [
        "# !tar --gunzip --extract --verbose --file=instacart_online_grocery_shopping_2017_05_01.tar.gz"
      ],
      "execution_count": 0,
      "outputs": []
    },
    {
      "cell_type": "code",
      "metadata": {
        "id": "Y3IqrhlpyNG-",
        "colab_type": "code",
        "colab": {}
      },
      "source": [
        "# %cd instacart_2017_05_01"
      ],
      "execution_count": 0,
      "outputs": []
    },
    {
      "cell_type": "markdown",
      "metadata": {
        "id": "8_rzXUJGbddd",
        "colab_type": "text"
      },
      "source": [
        "**There's one other column in the dataframe with percent signs. Remove them and convert to floats. You'll need to handle missing values.**"
      ]
    },
    {
      "cell_type": "code",
      "metadata": {
        "id": "Vd1CGWMIbdNx",
        "colab_type": "code",
        "colab": {
          "base_uri": "https://localhost:8080/",
          "height": 646
        },
        "outputId": "c6e5a14c-54ac-4716-c00a-96fe122d4eda"
      },
      "source": [
        "df['int_rate'].value_counts(dropna = False)"
      ],
      "execution_count": 76,
      "outputs": [
        {
          "output_type": "execute_result",
          "data": {
            "text/plain": [
              " 12.74%    4609\n",
              " 11.49%    4293\n",
              " 14.99%    3341\n",
              " 15.99%    3296\n",
              "  8.24%    3265\n",
              " 13.49%    3196\n",
              " 13.99%    2969\n",
              " 11.44%    2785\n",
              " 11.39%    2457\n",
              " 16.99%    2406\n",
              " 10.49%    2320\n",
              "  5.32%    2160\n",
              "  7.99%    1893\n",
              " 18.99%    1457\n",
              "  7.49%    1424\n",
              "  6.99%    1345\n",
              " 17.99%    1253\n",
              "  7.24%    1240\n",
              " 22.74%     847\n",
              " 19.99%     696\n",
              " 23.99%     646\n",
              " 25.49%     428\n",
              " 28.69%     384\n",
              " 26.24%     355\n",
              " 24.74%     251\n",
              " 29.49%     155\n",
              " 29.99%     122\n",
              " 30.49%     113\n",
              " 30.74%      94\n",
              " 21.49%      70\n",
              " 30.79%      64\n",
              " 30.84%      56\n",
              " 30.89%      43\n",
              " 30.99%      41\n",
              " 30.94%      28\n",
              "  6.00%       1\n",
              "Name: int_rate, dtype: int64"
            ]
          },
          "metadata": {
            "tags": []
          },
          "execution_count": 76
        }
      ]
    },
    {
      "cell_type": "markdown",
      "metadata": {
        "id": "B0hBi6XecJge",
        "colab_type": "text"
      },
      "source": [
        "There don't seem to be any NaN values. But I'll try to handle such cases anyways"
      ]
    },
    {
      "cell_type": "code",
      "metadata": {
        "id": "qFoBD1SXbZ-B",
        "colab_type": "code",
        "colab": {}
      },
      "source": [
        "# define function for converting string to float.\n",
        "\n",
        "def interest_float(rate):\n",
        "  if type(rate) == float:\n",
        "    return rate\n",
        "\n",
        "  else: \n",
        "    float_rate = float( rate.strip(\"%\").strip())\n",
        "    return float_rate\n"
      ],
      "execution_count": 0,
      "outputs": []
    },
    {
      "cell_type": "code",
      "metadata": {
        "id": "dOb2tJIvc-rs",
        "colab_type": "code",
        "colab": {}
      },
      "source": [
        "# apply the function\n",
        "\n",
        "df['int_rate'] = df['int_rate'].apply(interest_float)"
      ],
      "execution_count": 0,
      "outputs": []
    },
    {
      "cell_type": "code",
      "metadata": {
        "id": "NI3HLK_jdaWb",
        "colab_type": "code",
        "colab": {
          "base_uri": "https://localhost:8080/",
          "height": 119
        },
        "outputId": "1e872058-116f-4469-f6c4-9e8dbf9970ce"
      },
      "source": [
        "# Check values\n",
        "\n",
        "df['int_rate'].dtypes\n",
        "\n",
        "df['int_rate'].head()"
      ],
      "execution_count": 91,
      "outputs": [
        {
          "output_type": "execute_result",
          "data": {
            "text/plain": [
              "0     7.49\n",
              "1    14.99\n",
              "2    11.39\n",
              "3    10.49\n",
              "4     7.24\n",
              "Name: int_rate, dtype: float64"
            ]
          },
          "metadata": {
            "tags": []
          },
          "execution_count": 91
        }
      ]
    },
    {
      "cell_type": "markdown",
      "metadata": {
        "id": "gIs9-JhbdxGn",
        "colab_type": "text"
      },
      "source": [
        "**Modify the emp_title column to replace titles with 'Other' if the title is not in the top 20.**"
      ]
    },
    {
      "cell_type": "code",
      "metadata": {
        "id": "Wo-1UrUDhdzr",
        "colab_type": "code",
        "colab": {}
      },
      "source": [
        "\"\"\"\n",
        "We know there are a lot of incorrectly labeled titles (Owner and owner or Registered nurse and RN)\n",
        "\n",
        "\n",
        "\n",
        "Use value counts to get a list of titles and their associated counts\n",
        "\n",
        "Combine titles where appropriate\n",
        " - convert all titles to lower case and combine\n",
        " - strip titles and combine\n",
        " - manually check top 20 for any remaining duplicates (e.g. registered nurse and RN) and combine\n",
        "\n",
        "\n",
        "Write function that:\n",
        " - takes the dataframe and a list as arguments\n",
        " - checks if the dataframe entry is in the list\n",
        " - If the check is True, then pass\n",
        " - Else, return \"other\"\n",
        "\n",
        "Use the apply function to create the new column using our function\n",
        "\"\"\""
      ],
      "execution_count": 0,
      "outputs": []
    },
    {
      "cell_type": "code",
      "metadata": {
        "id": "e8M7MzTndlFt",
        "colab_type": "code",
        "colab": {
          "base_uri": "https://localhost:8080/",
          "height": 170
        },
        "outputId": "b1e74a4f-301e-4949-9d8f-317b5e420300"
      },
      "source": [
        "jobs = df['emp_title'].value_counts().index\n",
        "\n",
        "print (jobs)\n",
        "\n",
        "type(jobs)"
      ],
      "execution_count": 127,
      "outputs": [
        {
          "output_type": "stream",
          "text": [
            "Index(['Teacher', 'Manager', 'Owner', 'Driver', 'RN', 'Registered Nurse',\n",
            "       'Sales', 'Supervisor', 'Project Manager', 'owner',\n",
            "       ...\n",
            "       'Manager Technical Audit ', 'Senior Principal Consultant',\n",
            "       'Safety Dept.Tour Spervisor', 'Mooring Manager',\n",
            "       'Financial Sales Representative', 'die-cutter', 'Car Maintaince ',\n",
            "       'Appeal Board Specialist', 'Lead Officer', 'RN Case Manager '],\n",
            "      dtype='object', length=20587)\n"
          ],
          "name": "stdout"
        },
        {
          "output_type": "execute_result",
          "data": {
            "text/plain": [
              "pandas.core.indexes.base.Index"
            ]
          },
          "metadata": {
            "tags": []
          },
          "execution_count": 127
        }
      ]
    },
    {
      "cell_type": "code",
      "metadata": {
        "id": "b8Jsss1Md300",
        "colab_type": "code",
        "colab": {}
      },
      "source": [
        "# get the index of the value counts series and convert it to a list\n",
        "\n",
        "jobs = list( df['emp_title'].value_counts().index )"
      ],
      "execution_count": 0,
      "outputs": []
    },
    {
      "cell_type": "code",
      "metadata": {
        "id": "Plno2SlEflnN",
        "colab_type": "code",
        "colab": {
          "base_uri": "https://localhost:8080/",
          "height": 357
        },
        "outputId": "aeaffe92-3e77-4842-96f8-a0dac5dbc90e"
      },
      "source": [
        "jobs[0:20]"
      ],
      "execution_count": 135,
      "outputs": [
        {
          "output_type": "execute_result",
          "data": {
            "text/plain": [
              "['Teacher',\n",
              " 'Manager',\n",
              " 'Owner',\n",
              " 'Driver',\n",
              " 'RN',\n",
              " 'Registered Nurse',\n",
              " 'Sales',\n",
              " 'Supervisor',\n",
              " 'Project Manager',\n",
              " 'owner',\n",
              " 'Office Manager',\n",
              " 'Director',\n",
              " 'General Manager',\n",
              " 'President',\n",
              " 'Operations Manager',\n",
              " 'teacher',\n",
              " 'manager',\n",
              " 'Attorney',\n",
              " 'Engineer',\n",
              " 'Vice President']"
            ]
          },
          "metadata": {
            "tags": []
          },
          "execution_count": 135
        }
      ]
    }
  ]
}